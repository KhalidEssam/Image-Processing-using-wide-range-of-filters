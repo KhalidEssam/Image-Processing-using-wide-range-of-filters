{
 "cells": [
  {
   "cell_type": "code",
   "execution_count": 1,
   "metadata": {},
   "outputs": [],
   "source": [
    "\n",
    "import glob\n",
    "import PySimpleGUI as sg\n",
    "import numpy as np\n",
    "from PIL import Image, ImageTk,ImageOps\n",
    "import cv2\n",
    "import array as arr\n",
    "import os\n",
    "from os import listdir"
   ]
  },
  {
   "attachments": {},
   "cell_type": "markdown",
   "metadata": {},
   "source": [
    "Reading the image from folder"
   ]
  },
  {
   "cell_type": "code",
   "execution_count": 2,
   "metadata": {},
   "outputs": [],
   "source": [
    "\n",
    "def parse_folder(path):\n",
    "  for images in glob.iglob(f'{path}/*'):\n",
    "    if (images.endswith(\".png\") or images.endswith(\".jpg\") or images.endswith(\".jpeg\")):\n",
    "        \n",
    "        return images\n",
    "def load_image(path, window):\n",
    "    try:\n",
    "        image = Image.open(path)\n",
    "        image.thumbnail((200, 200))\n",
    "        photo_img = ImageTk.PhotoImage(image)\n",
    "        window[\"im1\"].update(data=photo_img)\n",
    "    except:\n",
    "        print(f\"Unable to open {path}!\")"
   ]
  },
  {
   "cell_type": "code",
   "execution_count": 3,
   "metadata": {},
   "outputs": [
    {
     "name": "stdout",
     "output_type": "stream",
     "text": [
      "2\n"
     ]
    }
   ],
   "source": [
    "z = 5 //2\n",
    "print(z)"
   ]
  },
  {
   "cell_type": "code",
   "execution_count": 4,
   "metadata": {},
   "outputs": [
    {
     "ename": "FileNotFoundError",
     "evalue": "[Errno 2] No such file or directory: 'D:/CS/SEM7/IMAGE/CODE/test/B2DBy.jpg'",
     "output_type": "error",
     "traceback": [
      "\u001b[1;31m---------------------------------------------------------------------------\u001b[0m",
      "\u001b[1;31mFileNotFoundError\u001b[0m                         Traceback (most recent call last)",
      "\u001b[1;32m~\\AppData\\Local\\Temp/ipykernel_19816/809710268.py\u001b[0m in \u001b[0;36m<module>\u001b[1;34m\u001b[0m\n\u001b[0;32m     13\u001b[0m    \u001b[1;31m# img.show()\u001b[0m\u001b[1;33m\u001b[0m\u001b[1;33m\u001b[0m\u001b[0m\n\u001b[0;32m     14\u001b[0m    \u001b[1;32mreturn\u001b[0m \u001b[0mg\u001b[0m\u001b[1;33m\u001b[0m\u001b[1;33m\u001b[0m\u001b[0m\n\u001b[1;32m---> 15\u001b[1;33m \u001b[0mpad\u001b[0m\u001b[1;33m(\u001b[0m\u001b[1;34m'D:/CS/SEM7/IMAGE/CODE/test/B2DBy.jpg'\u001b[0m\u001b[1;33m)\u001b[0m\u001b[1;33m\u001b[0m\u001b[1;33m\u001b[0m\u001b[0m\n\u001b[0m\u001b[0;32m     16\u001b[0m \u001b[0mcv2\u001b[0m\u001b[1;33m.\u001b[0m\u001b[0mwaitKey\u001b[0m\u001b[1;33m(\u001b[0m\u001b[1;36m0\u001b[0m\u001b[1;33m)\u001b[0m\u001b[1;33m\u001b[0m\u001b[1;33m\u001b[0m\u001b[0m\n",
      "\u001b[1;32m~\\AppData\\Local\\Temp/ipykernel_19816/809710268.py\u001b[0m in \u001b[0;36mpad\u001b[1;34m(path)\u001b[0m\n\u001b[0;32m      1\u001b[0m \u001b[1;32mdef\u001b[0m \u001b[0mpad\u001b[0m\u001b[1;33m(\u001b[0m\u001b[0mpath\u001b[0m\u001b[1;33m)\u001b[0m\u001b[1;33m:\u001b[0m\u001b[1;33m\u001b[0m\u001b[1;33m\u001b[0m\u001b[0m\n\u001b[0;32m      2\u001b[0m \u001b[1;33m\u001b[0m\u001b[0m\n\u001b[1;32m----> 3\u001b[1;33m    \u001b[0mimg\u001b[0m \u001b[1;33m=\u001b[0m \u001b[0mImage\u001b[0m\u001b[1;33m.\u001b[0m\u001b[0mopen\u001b[0m\u001b[1;33m(\u001b[0m\u001b[0mpath\u001b[0m\u001b[1;33m)\u001b[0m\u001b[1;33m\u001b[0m\u001b[1;33m\u001b[0m\u001b[0m\n\u001b[0m\u001b[0;32m      4\u001b[0m    \u001b[0mimg\u001b[0m \u001b[1;33m=\u001b[0m\u001b[0mImageOps\u001b[0m\u001b[1;33m.\u001b[0m\u001b[0mgrayscale\u001b[0m\u001b[1;33m(\u001b[0m\u001b[0mimg\u001b[0m\u001b[1;33m)\u001b[0m\u001b[1;33m\u001b[0m\u001b[1;33m\u001b[0m\u001b[0m\n\u001b[0;32m      5\u001b[0m    \u001b[0mw\u001b[0m\u001b[1;33m,\u001b[0m\u001b[0mh\u001b[0m \u001b[1;33m=\u001b[0m \u001b[0mimg\u001b[0m\u001b[1;33m.\u001b[0m\u001b[0msize\u001b[0m\u001b[1;33m\u001b[0m\u001b[1;33m\u001b[0m\u001b[0m\n",
      "\u001b[1;32m~\\AppData\\Roaming\\Python\\Python310\\site-packages\\PIL\\Image.py\u001b[0m in \u001b[0;36mopen\u001b[1;34m(fp, mode, formats)\u001b[0m\n\u001b[0;32m   2951\u001b[0m \u001b[1;33m\u001b[0m\u001b[0m\n\u001b[0;32m   2952\u001b[0m     \u001b[1;32mif\u001b[0m \u001b[0mfilename\u001b[0m\u001b[1;33m:\u001b[0m\u001b[1;33m\u001b[0m\u001b[1;33m\u001b[0m\u001b[0m\n\u001b[1;32m-> 2953\u001b[1;33m         \u001b[0mfp\u001b[0m \u001b[1;33m=\u001b[0m \u001b[0mbuiltins\u001b[0m\u001b[1;33m.\u001b[0m\u001b[0mopen\u001b[0m\u001b[1;33m(\u001b[0m\u001b[0mfilename\u001b[0m\u001b[1;33m,\u001b[0m \u001b[1;34m\"rb\"\u001b[0m\u001b[1;33m)\u001b[0m\u001b[1;33m\u001b[0m\u001b[1;33m\u001b[0m\u001b[0m\n\u001b[0m\u001b[0;32m   2954\u001b[0m         \u001b[0mexclusive_fp\u001b[0m \u001b[1;33m=\u001b[0m \u001b[1;32mTrue\u001b[0m\u001b[1;33m\u001b[0m\u001b[1;33m\u001b[0m\u001b[0m\n\u001b[0;32m   2955\u001b[0m \u001b[1;33m\u001b[0m\u001b[0m\n",
      "\u001b[1;31mFileNotFoundError\u001b[0m: [Errno 2] No such file or directory: 'D:/CS/SEM7/IMAGE/CODE/test/B2DBy.jpg'"
     ]
    }
   ],
   "source": [
    "def pad(path):\n",
    "\n",
    "   img = Image.open(path)\n",
    "   img =ImageOps.grayscale(img)\n",
    "   w,h = img.size\n",
    "   kernel = np.zeros((w+2,h+2),dtype=np.uint8)\n",
    "   for i in range(0,w):\n",
    "        for j in range(0,h):\n",
    "            kernel[i+1][j+1] = img.getpixel((i,j))\n",
    "\n",
    "   g = Image.fromarray(kernel)\n",
    "   # g.show()\n",
    "   # img.show()\n",
    "   return g\n",
    "pad('E:\\image processing\\project\\test\\dog\\B2DBy.jpg')\n",
    "cv2.waitKey(0)"
   ]
  },
  {
   "cell_type": "code",
   "execution_count": null,
   "metadata": {},
   "outputs": [],
   "source": [
    "def medianfilter(img,window):\n",
    "    m_img = img\n",
    "    mapp=m_img.load()\n",
    "    w,h = img.size\n",
    "    k = np.zeros((w-2,h-2),dtype=np.uint8)\n",
    "    m_w = 3\n",
    "    m_h=3\n",
    "    for i in range(1,w-2):\n",
    "        for j in range(1,h-2):\n",
    "            mask = np.zeros((3,3))\n",
    "            xx=i-1\n",
    "            yy=j-1\n",
    "            for x in range(m_w):\n",
    "                for y in range(m_h):\n",
    "                    mask[x][y] = img.getpixel((xx,yy))\n",
    "                    yy+=1\n",
    "                xx+=1\n",
    "                yy=j-1\n",
    "            m = np.median(mask)\n",
    "            k[i,j]= m\n",
    "    g = Image.fromarray(k)\n",
    "    # g.show()\n",
    "    # img.show()\n",
    "    g.thumbnail((200, 200))\n",
    "    photo_img = ImageTk.PhotoImage(g)\n",
    "    window[\"im2\"].update(data=photo_img)\n",
    "# t = pad('D:/CS/SEM7/IMAGE/CODE/test/B2DBy.jpg')\n",
    "# medianfilter(t)"
   ]
  },
  {
   "cell_type": "code",
   "execution_count": null,
   "metadata": {},
   "outputs": [],
   "source": [
    "def avregingfilter(img,window):\n",
    "    m_img = img\n",
    "    mapp=m_img.load()\n",
    "    w,h = img.size\n",
    "    k = np.zeros((w-2,h-2),dtype=np.uint8)\n",
    "    m_w = 3\n",
    "    m_h=3\n",
    "    kernel = np.ones((3,3))\n",
    "    kernel = kernel /9\n",
    "    for i in range(1,w-2):\n",
    "        for j in range(1,h-2):\n",
    "            mask = np.zeros((3,3))\n",
    "            xx=i-1\n",
    "            yy=j-1\n",
    "            for x in range(m_w):\n",
    "                for y in range(m_h):\n",
    "                    mask[x][y] = img.getpixel((xx,yy))\n",
    "                    yy+=1\n",
    "                xx+=1\n",
    "                yy=j-1\n",
    "            tot=0\n",
    "            for x in range(m_w):\n",
    "                for y in range(m_h):\n",
    "                    tot+= mask[x][y] * kernel[x][y]\n",
    "\n",
    "            k[i,j]= tot\n",
    "    g = Image.fromarray(k)\n",
    "    # g.show()\n",
    "    # img.show()\n",
    "    g.thumbnail((200, 200))\n",
    "    photo_img = ImageTk.PhotoImage(g)\n",
    "    window[\"im3\"].update(data=photo_img)\n",
    "# t = pad('D:/CS/SEM7/IMAGE/CODE/test/a.png')\n",
    "# avregingfilter(t)"
   ]
  },
  {
   "attachments": {},
   "cell_type": "markdown",
   "metadata": {},
   "source": [
    "Gaussian 3*3 Matrix\n",
    "1/16 * [1,2,1] [2,4,2] [1,2,1]"
   ]
  },
  {
   "cell_type": "code",
   "execution_count": null,
   "metadata": {},
   "outputs": [],
   "source": [
    "def gausian(img):\n",
    "    m_img = img\n",
    "    mapp=m_img.load()\n",
    "    w,h = img.size\n",
    "    k = np.zeros((w-2,h-2),dtype=np.uint8)\n",
    "    m_w = 3\n",
    "    m_h=3\n",
    "    kernel = np.ones((3,3))\n",
    "    kernel[0,0]= 1/16\n",
    "    kernel [0,1] = 2/16\n",
    "    kernel[0,2]= 1/16\n",
    "    kernel[1,0]=2/16\n",
    "    kernel[1,1] = 4/16\n",
    "    kernel[1,2]=2/16\n",
    "    kernel[2,0]=kernel[2,2]=1/16\n",
    "    kernel[2,1] = 2/16\n",
    "    for i in range(1,w-2):\n",
    "        for j in range(1,h-2):\n",
    "            mask = np.zeros((3,3))\n",
    "            xx=i-1\n",
    "            yy=j-1\n",
    "            for x in range(m_w):\n",
    "                for y in range(m_h):\n",
    "                    mask[x][y] = img.getpixel((xx,yy))\n",
    "                    yy+=1\n",
    "                xx+=1\n",
    "                yy=j-1\n",
    "            tot=0\n",
    "            for x in range(m_w):\n",
    "                for y in range(m_h):\n",
    "                    tot+= mask[x][y] * kernel[x][y]\n",
    "\n",
    "            k[i,j]= tot\n",
    "    g = Image.fromarray(k)\n",
    "    g.show()\n",
    "    img.show()\n",
    "    # g.thumbnail((200, 200))\n",
    "    # photo_img = ImageTk.PhotoImage(g)\n",
    "    # window[\"im4\"].update(data=photo_img)\n",
    "t = pad('D:/CS/SEM7/IMAGE/CODE/test/a.png')\n",
    "gausian(t)"
   ]
  },
  {
   "cell_type": "code",
   "execution_count": null,
   "metadata": {},
   "outputs": [
    {
     "name": "stdout",
     "output_type": "stream",
     "text": [
      "D:/CS/SEM7/IMAGE/CODE/test\\a.png\n"
     ]
    }
   ],
   "source": [
    "\n",
    "\n",
    "sg.theme(\"Light Blue 2\")\n",
    "layout = [\n",
    "    [\n",
    "        sg.Text(\"Image Folder\", size=(9, 1)),\n",
    "        sg.InputText(key='dest',default_text=\"Choose a folder...\",enable_events=True, size=(59, 1)),\n",
    "        sg.FolderBrowse(),\n",
    "    ],\n",
    "    [\n",
    "        sg.Frame(\n",
    "            layout=[\n",
    "                [\n",
    "                    \n",
    "                    sg.Button(key=\"median\",size=((20,1)),button_text='Median Filter'),\n",
    "                ],\n",
    "                [\n",
    "                    sg.Button(key='aver',button_text=\"Average Filter\", size=(20, 1)),\n",
    "                    # sg.InputText(default_text=\"8\", size=(3, 1),),\n",
    "                    # # sg.Text(\"\", size=(22, 1)),\n",
    "                    # sg.Submit(\"A nice button\", size=(23, 1)),\n",
    "                ],\n",
    "                [\n",
    "                    sg.Button(key='gau',button_text=\"Gaussian Filter\", size=(20, 1)),\n",
    "                    # sg.InputText(default_text=\"8\", size=(3, 1),),\n",
    "                    # # sg.Text(\"\", size=(22, 1)),\n",
    "                    # sg.Submit(\"A nice button\", size=(23, 1)),\n",
    "                ],\n",
    "                \n",
    "               \n",
    "            ],\n",
    "            title=\"Smoothing Spatial filters\",\n",
    "            relief=sg.RELIEF_GROOVE,\n",
    "        ),\n",
    "        sg.Frame(\n",
    "            layout = [\n",
    "             [  sg.Text(\"Original Image\", size=(15, 1)),\n",
    "                sg.Image(key='im1',size=(30,30))\n",
    "                ],\n",
    "                [ sg.Text(\"Median Filtered Image\", size=(15, 1)),\n",
    "                sg.Image(key='im2',size=(30,30))\n",
    "                    \n",
    "                ],\n",
    "                  [ sg.Text(\"Average Filtered Image\", size=(15, 1)),\n",
    "                sg.Image(key='im3',size=(30,30))\n",
    "                    \n",
    "                ],\n",
    "                [ sg.Text(\"Gaussian Filter Image\", size=(15, 1)),\n",
    "                sg.Image(key='im4',size=(30,30))\n",
    "                    \n",
    "                ],\n",
    "          \n",
    "        ],\n",
    "        title=\"Images\",\n",
    "        relief=sg.RELIEF_GROOVE,\n",
    "        ),\n",
    "        \n",
    "    ],\n",
    "]\n",
    "window = sg.Window(\"Test window\", layout)\n",
    "\n",
    "while True:\n",
    "    event, values = window.read()\n",
    "    if event == \"Exit\" or event == sg.WIN_CLOSED:\n",
    "            break\n",
    "    if event=='dest':\n",
    "        # print(values['dest'])\n",
    "        im = parse_folder(values['dest'])\n",
    "        print(im)\n",
    "        load_image(im,window)\n",
    "        image= pad(im)\n",
    "    if event=='median':\n",
    "        medianfilter(image,window)\n",
    "    if event =='aver':\n",
    "        avregingfilter(image,window)\n",
    "    if event =='gau':\n",
    "        gausian(image,window)\n",
    "window.close()\n"
   ]
  }
 ],
 "metadata": {
  "kernelspec": {
   "display_name": "Python 3",
   "language": "python",
   "name": "python3"
  },
  "language_info": {
   "codemirror_mode": {
    "name": "ipython",
    "version": 3
   },
   "file_extension": ".py",
   "mimetype": "text/x-python",
   "name": "python",
   "nbconvert_exporter": "python",
   "pygments_lexer": "ipython3",
   "version": "3.10.1"
  },
  "orig_nbformat": 4,
  "vscode": {
   "interpreter": {
    "hash": "34858fb4650e4f08c5273abdf3b94d08eabaf2da6ad278d4e34e857f9bde1bd0"
   }
  }
 },
 "nbformat": 4,
 "nbformat_minor": 2
}
